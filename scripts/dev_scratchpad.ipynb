{
 "metadata": {
  "language_info": {
   "codemirror_mode": {
    "name": "ipython",
    "version": 3
   },
   "file_extension": ".py",
   "mimetype": "text/x-python",
   "name": "python",
   "nbconvert_exporter": "python",
   "pygments_lexer": "ipython3",
   "version": "3.7.7"
  },
  "orig_nbformat": 2,
  "kernelspec": {
   "name": "python377jvsc74a57bd0bdb85cafa8c302641e776f63acb1aaa46c1e7894a0d63d070f5d9914972b46d0",
   "display_name": "Python 3.7.7 64-bit ('base': conda)"
  },
  "metadata": {
   "interpreter": {
    "hash": "bdb85cafa8c302641e776f63acb1aaa46c1e7894a0d63d070f5d9914972b46d0"
   }
  }
 },
 "nbformat": 4,
 "nbformat_minor": 2,
 "cells": [
  {
   "cell_type": "code",
   "execution_count": 1,
   "metadata": {},
   "outputs": [],
   "source": [
    "import sys\n",
    "sys.path.insert(0, '../')\n",
    "\n",
    "import dsm.prognostics.datasets as datasets\n"
   ]
  },
  {
   "cell_type": "code",
   "execution_count": 28,
   "metadata": {},
   "outputs": [
    {
     "output_type": "stream",
     "name": "stderr",
     "text": [
      "../dsm/prognostics/datasets.py:123: VisibleDeprecationWarning: Creating an ndarray from ragged nested sequences (which is a list-or-tuple of lists-or-tuples-or ndarrays with different lengths or shapes) is deprecated. If you meant to do this, you must specify 'dtype=object' when creating the ndarray\n",
      "  return np.array(x), np.array(t), np.array(e), ft_cols, norm_tuple\n",
      "../dsm/prognostics/datasets.py:123: VisibleDeprecationWarning: Creating an ndarray from ragged nested sequences (which is a list-or-tuple of lists-or-tuples-or ndarrays with different lengths or shapes) is deprecated. If you meant to do this, you must specify 'dtype=object' when creating the ndarray\n",
      "  return np.array(x), np.array(t), np.array(e), ft_cols, norm_tuple\n"
     ]
    }
   ],
   "source": [
    "\n",
    "train_data, test_data = datasets.load_turbofan(cmapss_folder='../../CMAPSSData/', \n",
    "                                               experiment=3, \n",
    "                                               windowsize=30,\n",
    "                                               flatten=True,\n",
    "                                               sequential=True,\n",
    "                                               test_last=False,\n",
    "                                               censoring=0.0)"
   ]
  },
  {
   "cell_type": "code",
   "execution_count": 29,
   "metadata": {},
   "outputs": [
    {
     "output_type": "stream",
     "name": "stdout",
     "text": [
      "(204, 450)\n(95, 450)\n(205, 450)\n(39, 450)\n(109, 450)\n(35, 450)\n(129, 450)\n(163, 450)\n(209, 450)\n(102, 450)\n(74, 450)\n(117, 450)\n(36, 450)\n(140, 450)\n(83, 450)\n(97, 450)\n(201, 450)\n(215, 450)\n(86, 450)\n(178, 450)\n(234, 450)\n(90, 450)\n(376, 450)\n(446, 450)\n(140, 450)\n(101, 450)\n(75, 450)\n(41, 450)\n(60, 450)\n(304, 450)\n(123, 450)\n(91, 450)\n(151, 450)\n(76, 450)\n(115, 450)\n(61, 450)\n(18, 450)\n(104, 450)\n(281, 450)\n(284, 450)\n(72, 450)\n(58, 450)\n(104, 450)\n(117, 450)\n(59, 450)\n(151, 450)\n(27, 450)\n(150, 450)\n(182, 450)\n(118, 450)\n(89, 450)\n(9, 450)\n(79, 450)\n(21, 450)\n(174, 450)\n(133, 450)\n(129, 450)\n(90, 450)\n(120, 450)\n(83, 450)\n(49, 450)\n(195, 450)\n(108, 450)\n(242, 450)\n(50, 450)\n(93, 450)\n(157, 450)\n(159, 450)\n(76, 450)\n(55, 450)\n(338, 450)\n(203, 450)\n(80, 450)\n(39, 450)\n(162, 450)\n(151, 450)\n(352, 450)\n(250, 450)\n(141, 450)\n(56, 450)\n(126, 450)\n(165, 450)\n(139, 450)\n(47, 450)\n(89, 450)\n(145, 450)\n(189, 450)\n(12, 450)\n(91, 450)\n(177, 450)\n(27, 450)\n(237, 450)\n(129, 450)\n(304, 450)\n(184, 450)\n(329, 450)\n(66, 450)\n(153, 450)\n(260, 450)\n(218, 450)\n"
     ]
    }
   ],
   "source": [
    "# x, t, e = train_data\n",
    "# for i in range(len(x)):\n",
    "#     print(x[i].shape)\n",
    "\n",
    "x, t, e = test_data\n",
    "for i in range(len(x)):\n",
    "    print(x[i].shape)\n"
   ]
  },
  {
   "cell_type": "code",
   "execution_count": 23,
   "metadata": {},
   "outputs": [
    {
     "output_type": "stream",
     "name": "stdout",
     "text": [
      "(163, 450)\n(258, 450)\n(150, 450)\n(160, 450)\n(240, 450)\n(159, 450)\n(230, 450)\n(121, 450)\n(172, 450)\n(193, 450)\n(211, 450)\n(141, 450)\n(134, 450)\n(151, 450)\n(178, 450)\n(180, 450)\n(247, 450)\n(166, 450)\n(129, 450)\n(205, 450)\n(166, 450)\n(173, 450)\n(139, 450)\n(118, 450)\n(201, 450)\n(170, 450)\n(127, 450)\n(136, 450)\n(134, 450)\n(165, 450)\n(205, 450)\n(162, 450)\n(171, 450)\n(166, 450)\n(152, 450)\n(129, 450)\n(141, 450)\n(165, 450)\n(99, 450)\n(159, 450)\n(187, 450)\n(167, 450)\n(178, 450)\n(163, 450)\n(129, 450)\n(227, 450)\n(185, 450)\n(202, 450)\n(186, 450)\n(169, 450)\n(184, 450)\n(184, 450)\n(166, 450)\n(228, 450)\n(164, 450)\n(246, 450)\n(108, 450)\n(118, 450)\n(202, 450)\n(143, 450)\n(156, 450)\n(151, 450)\n(145, 450)\n(254, 450)\n(124, 450)\n(173, 450)\n(284, 450)\n(170, 450)\n(333, 450)\n(108, 450)\n(179, 450)\n(184, 450)\n(184, 450)\n(137, 450)\n(200, 450)\n(181, 450)\n(125, 450)\n(202, 450)\n(170, 450)\n(156, 450)\n(211, 450)\n(185, 450)\n(264, 450)\n(238, 450)\n(159, 450)\n(249, 450)\n(149, 450)\n(184, 450)\n(188, 450)\n(125, 450)\n(106, 450)\n(312, 450)\n(126, 450)\n(229, 450)\n(254, 450)\n(307, 450)\n(173, 450)\n(127, 450)\n(156, 450)\n(171, 450)\n"
     ]
    }
   ],
   "source": []
  },
  {
   "cell_type": "code",
   "execution_count": null,
   "metadata": {},
   "outputs": [],
   "source": []
  }
 ]
}