{
 "cells": [
  {
   "cell_type": "code",
   "execution_count": 2,
   "metadata": {},
   "outputs": [],
   "source": [
    "import pandas as pd"
   ]
  },
  {
   "cell_type": "code",
   "execution_count": 3,
   "metadata": {},
   "outputs": [],
   "source": [
    "\n",
    "data = pd.read_csv(\"../scripts/results_new.csv\")"
   ]
  },
  {
   "cell_type": "code",
   "execution_count": 20,
   "metadata": {},
   "outputs": [
    {
     "data": {
      "text/plain": [
       "15.517392209113645"
      ]
     },
     "execution_count": 20,
     "metadata": {},
     "output_type": "execute_result"
    }
   ],
   "source": [
    "data['test_mse'].max()"
   ]
  },
  {
   "cell_type": "code",
   "execution_count": 28,
   "metadata": {},
   "outputs": [
    {
     "data": {
      "text/plain": [
       "0      14.745704\n",
       "1      14.745704\n",
       "2      14.326154\n",
       "3      14.745704\n",
       "4      14.326154\n",
       "         ...    \n",
       "955    15.467467\n",
       "956          NaN\n",
       "957          NaN\n",
       "958    15.467467\n",
       "959    15.467467\n",
       "Name: test_mse, Length: 960, dtype: float64"
      ]
     },
     "execution_count": 28,
     "metadata": {},
     "output_type": "execute_result"
    }
   ],
   "source": [
    "data['test_mse']"
   ]
  },
  {
   "cell_type": "code",
   "execution_count": 30,
   "metadata": {},
   "outputs": [
    {
     "name": "stdout",
     "output_type": "stream",
     "text": [
      "15.517392209113643 1.9860273225978185e-15 15.517392209113645\n"
     ]
    }
   ],
   "source": [
    "cens = 0.2\n",
    "temp = 0.0\n",
    "k = 1\n",
    "rep ='CNN'\n",
    "dr = 0.5\n",
    "use_cens = False\n",
    "learning_rate = 1e-3\n",
    "\n",
    "mask = data['cens']==cens\n",
    "mask &= data['temp']==temp\n",
    "mask &= data['k']==k\n",
    "mask &= data['rep']==rep\n",
    "mask &= data['dr']==dr\n",
    "mask &= data['use_cens']==use_cens\n",
    "mask &= data['learning_rate']==learning_rate\n",
    "\n",
    "mses = data[mask][['learning_rate', 'batch_size', 'epochs' ,'test_mse']]\n",
    "\n",
    "mses = data[mask]['test_mse']\n",
    "\n",
    "#print(mses)\n",
    "\n",
    "print(mses.mean(), mses.std(), mses.min())"
   ]
  },
  {
   "cell_type": "code",
   "execution_count": 13,
   "metadata": {},
   "outputs": [
    {
     "data": {
      "text/html": [
       "<div>\n",
       "<style scoped>\n",
       "    .dataframe tbody tr th:only-of-type {\n",
       "        vertical-align: middle;\n",
       "    }\n",
       "\n",
       "    .dataframe tbody tr th {\n",
       "        vertical-align: top;\n",
       "    }\n",
       "\n",
       "    .dataframe thead th {\n",
       "        text-align: right;\n",
       "    }\n",
       "</style>\n",
       "<table border=\"1\" class=\"dataframe\">\n",
       "  <thead>\n",
       "    <tr style=\"text-align: right;\">\n",
       "      <th></th>\n",
       "      <th>learning_rate</th>\n",
       "      <th>batch_size</th>\n",
       "      <th>epochs</th>\n",
       "      <th>test_mse</th>\n",
       "    </tr>\n",
       "  </thead>\n",
       "  <tbody>\n",
       "    <tr>\n",
       "      <th>499</th>\n",
       "      <td>0.0001</td>\n",
       "      <td>128</td>\n",
       "      <td>100</td>\n",
       "      <td>14.745704</td>\n",
       "    </tr>\n",
       "    <tr>\n",
       "      <th>504</th>\n",
       "      <td>0.0001</td>\n",
       "      <td>128</td>\n",
       "      <td>100</td>\n",
       "      <td>14.745704</td>\n",
       "    </tr>\n",
       "    <tr>\n",
       "      <th>511</th>\n",
       "      <td>0.0001</td>\n",
       "      <td>128</td>\n",
       "      <td>100</td>\n",
       "      <td>14.745704</td>\n",
       "    </tr>\n",
       "    <tr>\n",
       "      <th>512</th>\n",
       "      <td>0.0001</td>\n",
       "      <td>128</td>\n",
       "      <td>100</td>\n",
       "      <td>14.745704</td>\n",
       "    </tr>\n",
       "    <tr>\n",
       "      <th>516</th>\n",
       "      <td>0.0001</td>\n",
       "      <td>128</td>\n",
       "      <td>100</td>\n",
       "      <td>14.745704</td>\n",
       "    </tr>\n",
       "    <tr>\n",
       "      <th>538</th>\n",
       "      <td>0.0010</td>\n",
       "      <td>128</td>\n",
       "      <td>100</td>\n",
       "      <td>15.517392</td>\n",
       "    </tr>\n",
       "    <tr>\n",
       "      <th>544</th>\n",
       "      <td>0.0010</td>\n",
       "      <td>128</td>\n",
       "      <td>100</td>\n",
       "      <td>15.517392</td>\n",
       "    </tr>\n",
       "    <tr>\n",
       "      <th>547</th>\n",
       "      <td>0.0010</td>\n",
       "      <td>128</td>\n",
       "      <td>100</td>\n",
       "      <td>15.517392</td>\n",
       "    </tr>\n",
       "    <tr>\n",
       "      <th>554</th>\n",
       "      <td>0.0010</td>\n",
       "      <td>128</td>\n",
       "      <td>100</td>\n",
       "      <td>15.517392</td>\n",
       "    </tr>\n",
       "    <tr>\n",
       "      <th>556</th>\n",
       "      <td>0.0010</td>\n",
       "      <td>128</td>\n",
       "      <td>100</td>\n",
       "      <td>15.517392</td>\n",
       "    </tr>\n",
       "  </tbody>\n",
       "</table>\n",
       "</div>"
      ],
      "text/plain": [
       "     learning_rate  batch_size  epochs   test_mse\n",
       "499         0.0001         128     100  14.745704\n",
       "504         0.0001         128     100  14.745704\n",
       "511         0.0001         128     100  14.745704\n",
       "512         0.0001         128     100  14.745704\n",
       "516         0.0001         128     100  14.745704\n",
       "538         0.0010         128     100  15.517392\n",
       "544         0.0010         128     100  15.517392\n",
       "547         0.0010         128     100  15.517392\n",
       "554         0.0010         128     100  15.517392\n",
       "556         0.0010         128     100  15.517392"
      ]
     },
     "execution_count": 13,
     "metadata": {},
     "output_type": "execute_result"
    }
   ],
   "source": [
    "mses"
   ]
  },
  {
   "cell_type": "code",
   "execution_count": 73,
   "metadata": {},
   "outputs": [],
   "source": [
    "\n",
    "names = ['filename', 'experiment', 'model', 'k', 'temp', 'dropout', 'censoring', 'seed','use_cens', 'test_mse', 'train_mse']\n",
    "data = pd.read_csv(\"../scripts/results_bl_1.csv\", header=None, names=names)"
   ]
  },
  {
   "cell_type": "code",
   "execution_count": 74,
   "metadata": {},
   "outputs": [
    {
     "name": "stdout",
     "output_type": "stream",
     "text": [
      "15.825674096973165 0.25436684228356893 15.645809577885444\n"
     ]
    }
   ],
   "source": [
    "censoring = 0.2\n",
    "temp = 0.1\n",
    "k = 3\n",
    "model ='NN'\n",
    "dropout = 0.5\n",
    "\n",
    "mask = data['censoring']==censoring\n",
    "mask &= data['temp']==temp\n",
    "mask &= data['k']==k\n",
    "mask &= data['model']==model\n",
    "mask &= data['dropout']==dropout\n",
    "\n",
    "mses = data[mask]['test_mse']\n",
    "\n",
    "print(mses.mean(), mses.std(), mses.min())"
   ]
  },
  {
   "cell_type": "code",
   "execution_count": null,
   "metadata": {},
   "outputs": [],
   "source": [
    "data"
   ]
  }
 ],
 "metadata": {
  "kernelspec": {
   "display_name": "Python 3.7.7 64-bit ('base': conda)",
   "language": "python",
   "name": "python377jvsc74a57bd0bdb85cafa8c302641e776f63acb1aaa46c1e7894a0d63d070f5d9914972b46d0"
  },
  "language_info": {
   "codemirror_mode": {
    "name": "ipython",
    "version": 3
   },
   "file_extension": ".py",
   "mimetype": "text/x-python",
   "name": "python",
   "nbconvert_exporter": "python",
   "pygments_lexer": "ipython3",
   "version": "3.7.7"
  }
 },
 "nbformat": 4,
 "nbformat_minor": 4
}
